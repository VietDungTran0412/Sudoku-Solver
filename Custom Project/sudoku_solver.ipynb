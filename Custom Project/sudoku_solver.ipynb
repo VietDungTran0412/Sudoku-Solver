{
 "cells": [
  {
   "cell_type": "markdown",
   "id": "007c4f1a",
   "metadata": {},
   "source": [
    "# Backtracking Algorithm - Time Complexity Analysis"
   ]
  },
  {
   "cell_type": "markdown",
   "id": "e2dfadff",
   "metadata": {},
   "source": [
    "## 1. Data mining and cleaning from Sudoku game"
   ]
  },
  {
   "cell_type": "code",
   "execution_count": 5,
   "metadata": {},
   "outputs": [],
   "source": [
    "import pandas as pd\n",
    "import numpy as np\n",
    "import matplotlib.pyplot as plt\n",
    "import seaborn as sn\n",
    "%matplotlib inline"
   ]
  },
  {
   "cell_type": "code",
   "execution_count": 6,
   "id": "f00f70a3",
   "metadata": {},
   "outputs": [
    {
     "data": {
      "text/html": [
       "<div>\n",
       "<style scoped>\n",
       "    .dataframe tbody tr th:only-of-type {\n",
       "        vertical-align: middle;\n",
       "    }\n",
       "\n",
       "    .dataframe tbody tr th {\n",
       "        vertical-align: top;\n",
       "    }\n",
       "\n",
       "    .dataframe thead th {\n",
       "        text-align: right;\n",
       "    }\n",
       "</style>\n",
       "<table border=\"1\" class=\"dataframe\">\n",
       "  <thead>\n",
       "    <tr style=\"text-align: right;\">\n",
       "      <th></th>\n",
       "      <th>0</th>\n",
       "      <th>1</th>\n",
       "      <th>2</th>\n",
       "      <th>3</th>\n",
       "      <th>4</th>\n",
       "      <th>5</th>\n",
       "    </tr>\n",
       "  </thead>\n",
       "  <tbody>\n",
       "    <tr>\n",
       "      <th>0</th>\n",
       "      <td>Easy</td>\n",
       "      <td>0.001252</td>\n",
       "      <td>0.000003</td>\n",
       "      <td>0.001255</td>\n",
       "      <td>(</td>\n",
       "      <td>0.001249)</td>\n",
       "    </tr>\n",
       "    <tr>\n",
       "      <th>1</th>\n",
       "      <td>Easy</td>\n",
       "      <td>0.012582</td>\n",
       "      <td>0.000025</td>\n",
       "      <td>0.012607</td>\n",
       "      <td>(</td>\n",
       "      <td>0.012572)</td>\n",
       "    </tr>\n",
       "    <tr>\n",
       "      <th>2</th>\n",
       "      <td>Easy</td>\n",
       "      <td>0.002730</td>\n",
       "      <td>0.000043</td>\n",
       "      <td>0.002773</td>\n",
       "      <td>(</td>\n",
       "      <td>0.002687)</td>\n",
       "    </tr>\n",
       "    <tr>\n",
       "      <th>3</th>\n",
       "      <td>Easy</td>\n",
       "      <td>0.000597</td>\n",
       "      <td>0.000004</td>\n",
       "      <td>0.000601</td>\n",
       "      <td>(</td>\n",
       "      <td>0.000596)</td>\n",
       "    </tr>\n",
       "    <tr>\n",
       "      <th>4</th>\n",
       "      <td>Easy</td>\n",
       "      <td>0.000474</td>\n",
       "      <td>0.000007</td>\n",
       "      <td>0.000481</td>\n",
       "      <td>(</td>\n",
       "      <td>0.000475)</td>\n",
       "    </tr>\n",
       "  </tbody>\n",
       "</table>\n",
       "</div>"
      ],
      "text/plain": [
       "      0         1         2         3  4          5\n",
       "0  Easy  0.001252  0.000003  0.001255  (  0.001249)\n",
       "1  Easy  0.012582  0.000025  0.012607  (  0.012572)\n",
       "2  Easy  0.002730  0.000043  0.002773  (  0.002687)\n",
       "3  Easy  0.000597  0.000004  0.000601  (  0.000596)\n",
       "4  Easy  0.000474  0.000007  0.000481  (  0.000475)"
      ]
     },
     "execution_count": 6,
     "metadata": {},
     "output_type": "execute_result"
    }
   ],
   "source": [
    "df = pd.read_csv(\"time.txt\",delim_whitespace=True, header=None)\n",
    "df.head(5)"
   ]
  },
  {
   "cell_type": "code",
   "execution_count": 7,
   "id": "bf5640e1",
   "metadata": {},
   "outputs": [
    {
     "data": {
      "text/plain": [
       "'0.012572'"
      ]
     },
     "execution_count": 7,
     "metadata": {},
     "output_type": "execute_result"
    }
   ],
   "source": [
    "a = df[5][1].strip(\")\")\n",
    "a"
   ]
  },
  {
   "cell_type": "code",
   "execution_count": 8,
   "id": "826b4a1b",
   "metadata": {},
   "outputs": [
    {
     "data": {
      "text/html": [
       "<div>\n",
       "<style scoped>\n",
       "    .dataframe tbody tr th:only-of-type {\n",
       "        vertical-align: middle;\n",
       "    }\n",
       "\n",
       "    .dataframe tbody tr th {\n",
       "        vertical-align: top;\n",
       "    }\n",
       "\n",
       "    .dataframe thead th {\n",
       "        text-align: right;\n",
       "    }\n",
       "</style>\n",
       "<table border=\"1\" class=\"dataframe\">\n",
       "  <thead>\n",
       "    <tr style=\"text-align: right;\">\n",
       "      <th></th>\n",
       "      <th>0</th>\n",
       "      <th>1</th>\n",
       "      <th>2</th>\n",
       "      <th>3</th>\n",
       "      <th>5</th>\n",
       "    </tr>\n",
       "  </thead>\n",
       "  <tbody>\n",
       "    <tr>\n",
       "      <th>0</th>\n",
       "      <td>Easy</td>\n",
       "      <td>0.001252</td>\n",
       "      <td>0.000003</td>\n",
       "      <td>0.001255</td>\n",
       "      <td>0.001249)</td>\n",
       "    </tr>\n",
       "    <tr>\n",
       "      <th>1</th>\n",
       "      <td>Easy</td>\n",
       "      <td>0.012582</td>\n",
       "      <td>0.000025</td>\n",
       "      <td>0.012607</td>\n",
       "      <td>0.012572)</td>\n",
       "    </tr>\n",
       "    <tr>\n",
       "      <th>2</th>\n",
       "      <td>Easy</td>\n",
       "      <td>0.002730</td>\n",
       "      <td>0.000043</td>\n",
       "      <td>0.002773</td>\n",
       "      <td>0.002687)</td>\n",
       "    </tr>\n",
       "    <tr>\n",
       "      <th>3</th>\n",
       "      <td>Easy</td>\n",
       "      <td>0.000597</td>\n",
       "      <td>0.000004</td>\n",
       "      <td>0.000601</td>\n",
       "      <td>0.000596)</td>\n",
       "    </tr>\n",
       "    <tr>\n",
       "      <th>4</th>\n",
       "      <td>Easy</td>\n",
       "      <td>0.000474</td>\n",
       "      <td>0.000007</td>\n",
       "      <td>0.000481</td>\n",
       "      <td>0.000475)</td>\n",
       "    </tr>\n",
       "  </tbody>\n",
       "</table>\n",
       "</div>"
      ],
      "text/plain": [
       "      0         1         2         3          5\n",
       "0  Easy  0.001252  0.000003  0.001255  0.001249)\n",
       "1  Easy  0.012582  0.000025  0.012607  0.012572)\n",
       "2  Easy  0.002730  0.000043  0.002773  0.002687)\n",
       "3  Easy  0.000597  0.000004  0.000601  0.000596)\n",
       "4  Easy  0.000474  0.000007  0.000481  0.000475)"
      ]
     },
     "execution_count": 8,
     "metadata": {},
     "output_type": "execute_result"
    }
   ],
   "source": [
    "df.drop(columns=4, inplace = True, axis = 0)\n",
    "df.head(5)"
   ]
  },
  {
   "cell_type": "markdown",
   "id": "3b427904",
   "metadata": {},
   "source": [
    "#### Function to remove hyphens"
   ]
  },
  {
   "cell_type": "code",
   "execution_count": 9,
   "id": "514b9e97",
   "metadata": {},
   "outputs": [],
   "source": [
    "def remove_hyphens(col):\n",
    "    for i in range(len(col)):\n",
    "        col[i] = col[i].strip(\")\")"
   ]
  },
  {
   "cell_type": "code",
   "execution_count": 10,
   "id": "1047489d",
   "metadata": {},
   "outputs": [],
   "source": [
    "def convert_float_number(col):\n",
    "    return col.astype(\"float64\")"
   ]
  },
  {
   "cell_type": "code",
   "execution_count": 11,
   "id": "5a3d7d94",
   "metadata": {},
   "outputs": [
    {
     "name": "stderr",
     "output_type": "stream",
     "text": [
      "/var/folders/pv/zw26l23513ncd4gl52b80nkw0000gn/T/ipykernel_5076/1183593680.py:3: SettingWithCopyWarning: \n",
      "A value is trying to be set on a copy of a slice from a DataFrame\n",
      "\n",
      "See the caveats in the documentation: https://pandas.pydata.org/pandas-docs/stable/user_guide/indexing.html#returning-a-view-versus-a-copy\n",
      "  col[i] = col[i].strip(\")\")\n"
     ]
    }
   ],
   "source": [
    "remove_hyphens(df[5])"
   ]
  },
  {
   "cell_type": "code",
   "execution_count": 12,
   "id": "4809b375",
   "metadata": {},
   "outputs": [
    {
     "data": {
      "text/html": [
       "<div>\n",
       "<style scoped>\n",
       "    .dataframe tbody tr th:only-of-type {\n",
       "        vertical-align: middle;\n",
       "    }\n",
       "\n",
       "    .dataframe tbody tr th {\n",
       "        vertical-align: top;\n",
       "    }\n",
       "\n",
       "    .dataframe thead th {\n",
       "        text-align: right;\n",
       "    }\n",
       "</style>\n",
       "<table border=\"1\" class=\"dataframe\">\n",
       "  <thead>\n",
       "    <tr style=\"text-align: right;\">\n",
       "      <th></th>\n",
       "      <th>0</th>\n",
       "      <th>1</th>\n",
       "      <th>2</th>\n",
       "      <th>3</th>\n",
       "      <th>5</th>\n",
       "    </tr>\n",
       "  </thead>\n",
       "  <tbody>\n",
       "    <tr>\n",
       "      <th>0</th>\n",
       "      <td>Easy</td>\n",
       "      <td>0.001252</td>\n",
       "      <td>0.000003</td>\n",
       "      <td>0.001255</td>\n",
       "      <td>0.001249</td>\n",
       "    </tr>\n",
       "    <tr>\n",
       "      <th>1</th>\n",
       "      <td>Easy</td>\n",
       "      <td>0.012582</td>\n",
       "      <td>0.000025</td>\n",
       "      <td>0.012607</td>\n",
       "      <td>0.012572</td>\n",
       "    </tr>\n",
       "    <tr>\n",
       "      <th>2</th>\n",
       "      <td>Easy</td>\n",
       "      <td>0.002730</td>\n",
       "      <td>0.000043</td>\n",
       "      <td>0.002773</td>\n",
       "      <td>0.002687</td>\n",
       "    </tr>\n",
       "    <tr>\n",
       "      <th>3</th>\n",
       "      <td>Easy</td>\n",
       "      <td>0.000597</td>\n",
       "      <td>0.000004</td>\n",
       "      <td>0.000601</td>\n",
       "      <td>0.000596</td>\n",
       "    </tr>\n",
       "    <tr>\n",
       "      <th>4</th>\n",
       "      <td>Easy</td>\n",
       "      <td>0.000474</td>\n",
       "      <td>0.000007</td>\n",
       "      <td>0.000481</td>\n",
       "      <td>0.000475</td>\n",
       "    </tr>\n",
       "  </tbody>\n",
       "</table>\n",
       "</div>"
      ],
      "text/plain": [
       "      0         1         2         3         5\n",
       "0  Easy  0.001252  0.000003  0.001255  0.001249\n",
       "1  Easy  0.012582  0.000025  0.012607  0.012572\n",
       "2  Easy  0.002730  0.000043  0.002773  0.002687\n",
       "3  Easy  0.000597  0.000004  0.000601  0.000596\n",
       "4  Easy  0.000474  0.000007  0.000481  0.000475"
      ]
     },
     "execution_count": 12,
     "metadata": {},
     "output_type": "execute_result"
    }
   ],
   "source": [
    "df.head(5)"
   ]
  },
  {
   "cell_type": "code",
   "execution_count": 13,
   "id": "bac349a6",
   "metadata": {},
   "outputs": [
    {
     "data": {
      "text/plain": [
       "Int64Index([1, 2, 3, 5], dtype='int64')"
      ]
     },
     "execution_count": 13,
     "metadata": {},
     "output_type": "execute_result"
    }
   ],
   "source": [
    "val_cols = df.columns[1:]\n",
    "val_cols\n"
   ]
  },
  {
   "cell_type": "code",
   "execution_count": 14,
   "id": "fcdaa04a",
   "metadata": {},
   "outputs": [
    {
     "data": {
      "text/html": [
       "<div>\n",
       "<style scoped>\n",
       "    .dataframe tbody tr th:only-of-type {\n",
       "        vertical-align: middle;\n",
       "    }\n",
       "\n",
       "    .dataframe tbody tr th {\n",
       "        vertical-align: top;\n",
       "    }\n",
       "\n",
       "    .dataframe thead th {\n",
       "        text-align: right;\n",
       "    }\n",
       "</style>\n",
       "<table border=\"1\" class=\"dataframe\">\n",
       "  <thead>\n",
       "    <tr style=\"text-align: right;\">\n",
       "      <th></th>\n",
       "      <th>0</th>\n",
       "      <th>1</th>\n",
       "      <th>2</th>\n",
       "      <th>3</th>\n",
       "      <th>5</th>\n",
       "    </tr>\n",
       "  </thead>\n",
       "  <tbody>\n",
       "    <tr>\n",
       "      <th>0</th>\n",
       "      <td>Easy</td>\n",
       "      <td>0.001252</td>\n",
       "      <td>0.000003</td>\n",
       "      <td>0.001255</td>\n",
       "      <td>0.001249</td>\n",
       "    </tr>\n",
       "    <tr>\n",
       "      <th>1</th>\n",
       "      <td>Easy</td>\n",
       "      <td>0.012582</td>\n",
       "      <td>0.000025</td>\n",
       "      <td>0.012607</td>\n",
       "      <td>0.012572</td>\n",
       "    </tr>\n",
       "    <tr>\n",
       "      <th>2</th>\n",
       "      <td>Easy</td>\n",
       "      <td>0.002730</td>\n",
       "      <td>0.000043</td>\n",
       "      <td>0.002773</td>\n",
       "      <td>0.002687</td>\n",
       "    </tr>\n",
       "    <tr>\n",
       "      <th>3</th>\n",
       "      <td>Easy</td>\n",
       "      <td>0.000597</td>\n",
       "      <td>0.000004</td>\n",
       "      <td>0.000601</td>\n",
       "      <td>0.000596</td>\n",
       "    </tr>\n",
       "    <tr>\n",
       "      <th>4</th>\n",
       "      <td>Easy</td>\n",
       "      <td>0.000474</td>\n",
       "      <td>0.000007</td>\n",
       "      <td>0.000481</td>\n",
       "      <td>0.000475</td>\n",
       "    </tr>\n",
       "  </tbody>\n",
       "</table>\n",
       "</div>"
      ],
      "text/plain": [
       "      0         1         2         3         5\n",
       "0  Easy  0.001252  0.000003  0.001255  0.001249\n",
       "1  Easy  0.012582  0.000025  0.012607  0.012572\n",
       "2  Easy  0.002730  0.000043  0.002773  0.002687\n",
       "3  Easy  0.000597  0.000004  0.000601  0.000596\n",
       "4  Easy  0.000474  0.000007  0.000481  0.000475"
      ]
     },
     "execution_count": 14,
     "metadata": {},
     "output_type": "execute_result"
    }
   ],
   "source": [
    "for col in val_cols:\n",
    "    df[col] = convert_float_number(df[col])\n",
    "df.head(5)"
   ]
  },
  {
   "cell_type": "code",
   "execution_count": 15,
   "id": "fdff22d6",
   "metadata": {},
   "outputs": [
    {
     "data": {
      "text/plain": [
       "dtype('float64')"
      ]
     },
     "execution_count": 15,
     "metadata": {},
     "output_type": "execute_result"
    }
   ],
   "source": [
    "df[1].dtype"
   ]
  },
  {
   "cell_type": "code",
   "execution_count": 16,
   "id": "e528dd88",
   "metadata": {},
   "outputs": [
    {
     "data": {
      "text/html": [
       "<div>\n",
       "<style scoped>\n",
       "    .dataframe tbody tr th:only-of-type {\n",
       "        vertical-align: middle;\n",
       "    }\n",
       "\n",
       "    .dataframe tbody tr th {\n",
       "        vertical-align: top;\n",
       "    }\n",
       "\n",
       "    .dataframe thead th {\n",
       "        text-align: right;\n",
       "    }\n",
       "</style>\n",
       "<table border=\"1\" class=\"dataframe\">\n",
       "  <thead>\n",
       "    <tr style=\"text-align: right;\">\n",
       "      <th></th>\n",
       "      <th>Difficulty</th>\n",
       "      <th>User</th>\n",
       "      <th>System</th>\n",
       "      <th>Total</th>\n",
       "      <th>Real</th>\n",
       "    </tr>\n",
       "  </thead>\n",
       "  <tbody>\n",
       "    <tr>\n",
       "      <th>0</th>\n",
       "      <td>Easy</td>\n",
       "      <td>0.001252</td>\n",
       "      <td>0.000003</td>\n",
       "      <td>0.001255</td>\n",
       "      <td>0.001249</td>\n",
       "    </tr>\n",
       "    <tr>\n",
       "      <th>1</th>\n",
       "      <td>Easy</td>\n",
       "      <td>0.012582</td>\n",
       "      <td>0.000025</td>\n",
       "      <td>0.012607</td>\n",
       "      <td>0.012572</td>\n",
       "    </tr>\n",
       "    <tr>\n",
       "      <th>2</th>\n",
       "      <td>Easy</td>\n",
       "      <td>0.002730</td>\n",
       "      <td>0.000043</td>\n",
       "      <td>0.002773</td>\n",
       "      <td>0.002687</td>\n",
       "    </tr>\n",
       "    <tr>\n",
       "      <th>3</th>\n",
       "      <td>Easy</td>\n",
       "      <td>0.000597</td>\n",
       "      <td>0.000004</td>\n",
       "      <td>0.000601</td>\n",
       "      <td>0.000596</td>\n",
       "    </tr>\n",
       "    <tr>\n",
       "      <th>4</th>\n",
       "      <td>Easy</td>\n",
       "      <td>0.000474</td>\n",
       "      <td>0.000007</td>\n",
       "      <td>0.000481</td>\n",
       "      <td>0.000475</td>\n",
       "    </tr>\n",
       "  </tbody>\n",
       "</table>\n",
       "</div>"
      ],
      "text/plain": [
       "  Difficulty      User    System     Total      Real\n",
       "0       Easy  0.001252  0.000003  0.001255  0.001249\n",
       "1       Easy  0.012582  0.000025  0.012607  0.012572\n",
       "2       Easy  0.002730  0.000043  0.002773  0.002687\n",
       "3       Easy  0.000597  0.000004  0.000601  0.000596\n",
       "4       Easy  0.000474  0.000007  0.000481  0.000475"
      ]
     },
     "execution_count": 16,
     "metadata": {},
     "output_type": "execute_result"
    }
   ],
   "source": [
    "df.columns = ['Difficulty','User',\"System\",\"Total\",\"Real\"]\n",
    "df.head(5)"
   ]
  },
  {
   "cell_type": "code",
   "execution_count": 17,
   "id": "63a8570a",
   "metadata": {},
   "outputs": [
    {
     "data": {
      "text/html": [
       "<div>\n",
       "<style scoped>\n",
       "    .dataframe tbody tr th:only-of-type {\n",
       "        vertical-align: middle;\n",
       "    }\n",
       "\n",
       "    .dataframe tbody tr th {\n",
       "        vertical-align: top;\n",
       "    }\n",
       "\n",
       "    .dataframe thead th {\n",
       "        text-align: right;\n",
       "    }\n",
       "</style>\n",
       "<table border=\"1\" class=\"dataframe\">\n",
       "  <thead>\n",
       "    <tr style=\"text-align: right;\">\n",
       "      <th></th>\n",
       "      <th>Difficulty</th>\n",
       "      <th>User</th>\n",
       "      <th>System</th>\n",
       "      <th>Total</th>\n",
       "      <th>Real</th>\n",
       "    </tr>\n",
       "  </thead>\n",
       "  <tbody>\n",
       "    <tr>\n",
       "      <th>0</th>\n",
       "      <td>Easy</td>\n",
       "      <td>0.001252</td>\n",
       "      <td>0.000003</td>\n",
       "      <td>0.001255</td>\n",
       "      <td>0.001249</td>\n",
       "    </tr>\n",
       "    <tr>\n",
       "      <th>1</th>\n",
       "      <td>Easy</td>\n",
       "      <td>0.012582</td>\n",
       "      <td>0.000025</td>\n",
       "      <td>0.012607</td>\n",
       "      <td>0.012572</td>\n",
       "    </tr>\n",
       "    <tr>\n",
       "      <th>2</th>\n",
       "      <td>Easy</td>\n",
       "      <td>0.002730</td>\n",
       "      <td>0.000043</td>\n",
       "      <td>0.002773</td>\n",
       "      <td>0.002687</td>\n",
       "    </tr>\n",
       "    <tr>\n",
       "      <th>3</th>\n",
       "      <td>Easy</td>\n",
       "      <td>0.000597</td>\n",
       "      <td>0.000004</td>\n",
       "      <td>0.000601</td>\n",
       "      <td>0.000596</td>\n",
       "    </tr>\n",
       "    <tr>\n",
       "      <th>4</th>\n",
       "      <td>Easy</td>\n",
       "      <td>0.000474</td>\n",
       "      <td>0.000007</td>\n",
       "      <td>0.000481</td>\n",
       "      <td>0.000475</td>\n",
       "    </tr>\n",
       "  </tbody>\n",
       "</table>\n",
       "</div>"
      ],
      "text/plain": [
       "  Difficulty      User    System     Total      Real\n",
       "0       Easy  0.001252  0.000003  0.001255  0.001249\n",
       "1       Easy  0.012582  0.000025  0.012607  0.012572\n",
       "2       Easy  0.002730  0.000043  0.002773  0.002687\n",
       "3       Easy  0.000597  0.000004  0.000601  0.000596\n",
       "4       Easy  0.000474  0.000007  0.000481  0.000475"
      ]
     },
     "execution_count": 17,
     "metadata": {},
     "output_type": "execute_result"
    }
   ],
   "source": [
    "df_easy = df[df[\"Difficulty\"] == \"Easy\"]\n",
    "df_easy.head(5)"
   ]
  },
  {
   "cell_type": "code",
   "execution_count": 18,
   "id": "4a8a6c62",
   "metadata": {},
   "outputs": [
    {
     "data": {
      "text/plain": [
       "User      0.003527\n",
       "System    0.000016\n",
       "Total     0.003543\n",
       "Real      0.003516\n",
       "dtype: float64"
      ]
     },
     "execution_count": 18,
     "metadata": {},
     "output_type": "execute_result"
    }
   ],
   "source": [
    "df_easy[['User',\"System\",\"Total\",\"Real\"]].mean()"
   ]
  },
  {
   "cell_type": "code",
   "execution_count": 19,
   "id": "b5d4cbe5",
   "metadata": {},
   "outputs": [
    {
     "data": {
      "text/html": [
       "<div>\n",
       "<style scoped>\n",
       "    .dataframe tbody tr th:only-of-type {\n",
       "        vertical-align: middle;\n",
       "    }\n",
       "\n",
       "    .dataframe tbody tr th {\n",
       "        vertical-align: top;\n",
       "    }\n",
       "\n",
       "    .dataframe thead th {\n",
       "        text-align: right;\n",
       "    }\n",
       "</style>\n",
       "<table border=\"1\" class=\"dataframe\">\n",
       "  <thead>\n",
       "    <tr style=\"text-align: right;\">\n",
       "      <th></th>\n",
       "      <th>Difficulty</th>\n",
       "      <th>User</th>\n",
       "      <th>System</th>\n",
       "      <th>Total</th>\n",
       "      <th>Real</th>\n",
       "    </tr>\n",
       "  </thead>\n",
       "  <tbody>\n",
       "    <tr>\n",
       "      <th>8</th>\n",
       "      <td>Hard</td>\n",
       "      <td>0.704250</td>\n",
       "      <td>0.004928</td>\n",
       "      <td>0.709178</td>\n",
       "      <td>0.702202</td>\n",
       "    </tr>\n",
       "    <tr>\n",
       "      <th>10</th>\n",
       "      <td>Hard</td>\n",
       "      <td>0.020075</td>\n",
       "      <td>0.000827</td>\n",
       "      <td>0.020902</td>\n",
       "      <td>0.020276</td>\n",
       "    </tr>\n",
       "    <tr>\n",
       "      <th>5</th>\n",
       "      <td>Hard</td>\n",
       "      <td>0.109413</td>\n",
       "      <td>0.000786</td>\n",
       "      <td>0.110199</td>\n",
       "      <td>0.108969</td>\n",
       "    </tr>\n",
       "    <tr>\n",
       "      <th>6</th>\n",
       "      <td>Hard</td>\n",
       "      <td>0.474747</td>\n",
       "      <td>0.003600</td>\n",
       "      <td>0.478347</td>\n",
       "      <td>0.473294</td>\n",
       "    </tr>\n",
       "    <tr>\n",
       "      <th>7</th>\n",
       "      <td>Hard</td>\n",
       "      <td>2.667380</td>\n",
       "      <td>0.014310</td>\n",
       "      <td>2.681690</td>\n",
       "      <td>2.661090</td>\n",
       "    </tr>\n",
       "    <tr>\n",
       "      <th>9</th>\n",
       "      <td>Hard</td>\n",
       "      <td>0.049569</td>\n",
       "      <td>0.000279</td>\n",
       "      <td>0.049848</td>\n",
       "      <td>0.049274</td>\n",
       "    </tr>\n",
       "    <tr>\n",
       "      <th>15</th>\n",
       "      <td>Expert</td>\n",
       "      <td>0.201230</td>\n",
       "      <td>0.000906</td>\n",
       "      <td>0.202136</td>\n",
       "      <td>0.200520</td>\n",
       "    </tr>\n",
       "    <tr>\n",
       "      <th>14</th>\n",
       "      <td>Expert</td>\n",
       "      <td>0.620825</td>\n",
       "      <td>0.002106</td>\n",
       "      <td>0.622931</td>\n",
       "      <td>0.619012</td>\n",
       "    </tr>\n",
       "    <tr>\n",
       "      <th>13</th>\n",
       "      <td>Expert</td>\n",
       "      <td>0.418463</td>\n",
       "      <td>0.001982</td>\n",
       "      <td>0.420445</td>\n",
       "      <td>0.416899</td>\n",
       "    </tr>\n",
       "    <tr>\n",
       "      <th>11</th>\n",
       "      <td>Expert</td>\n",
       "      <td>3.680232</td>\n",
       "      <td>0.021776</td>\n",
       "      <td>3.702008</td>\n",
       "      <td>3.674629</td>\n",
       "    </tr>\n",
       "    <tr>\n",
       "      <th>12</th>\n",
       "      <td>Expert</td>\n",
       "      <td>0.094832</td>\n",
       "      <td>0.001950</td>\n",
       "      <td>0.096782</td>\n",
       "      <td>0.094428</td>\n",
       "    </tr>\n",
       "    <tr>\n",
       "      <th>16</th>\n",
       "      <td>Expert</td>\n",
       "      <td>0.857771</td>\n",
       "      <td>0.004008</td>\n",
       "      <td>0.861779</td>\n",
       "      <td>0.855616</td>\n",
       "    </tr>\n",
       "    <tr>\n",
       "      <th>18</th>\n",
       "      <td>Evil</td>\n",
       "      <td>0.165953</td>\n",
       "      <td>0.001128</td>\n",
       "      <td>0.167081</td>\n",
       "      <td>0.165149</td>\n",
       "    </tr>\n",
       "    <tr>\n",
       "      <th>19</th>\n",
       "      <td>Evil</td>\n",
       "      <td>6.832637</td>\n",
       "      <td>0.036460</td>\n",
       "      <td>6.869097</td>\n",
       "      <td>6.823595</td>\n",
       "    </tr>\n",
       "    <tr>\n",
       "      <th>20</th>\n",
       "      <td>Evil</td>\n",
       "      <td>0.198576</td>\n",
       "      <td>0.000763</td>\n",
       "      <td>0.199339</td>\n",
       "      <td>0.197672</td>\n",
       "    </tr>\n",
       "    <tr>\n",
       "      <th>21</th>\n",
       "      <td>Evil</td>\n",
       "      <td>0.425851</td>\n",
       "      <td>0.001554</td>\n",
       "      <td>0.427405</td>\n",
       "      <td>0.424571</td>\n",
       "    </tr>\n",
       "    <tr>\n",
       "      <th>22</th>\n",
       "      <td>Evil</td>\n",
       "      <td>1.369683</td>\n",
       "      <td>0.005389</td>\n",
       "      <td>1.375072</td>\n",
       "      <td>1.366604</td>\n",
       "    </tr>\n",
       "    <tr>\n",
       "      <th>23</th>\n",
       "      <td>Evil</td>\n",
       "      <td>2.010588</td>\n",
       "      <td>0.009156</td>\n",
       "      <td>2.019744</td>\n",
       "      <td>2.006746</td>\n",
       "    </tr>\n",
       "    <tr>\n",
       "      <th>17</th>\n",
       "      <td>Evil</td>\n",
       "      <td>0.813281</td>\n",
       "      <td>0.004792</td>\n",
       "      <td>0.818073</td>\n",
       "      <td>0.811324</td>\n",
       "    </tr>\n",
       "    <tr>\n",
       "      <th>1</th>\n",
       "      <td>Easy</td>\n",
       "      <td>0.012582</td>\n",
       "      <td>0.000025</td>\n",
       "      <td>0.012607</td>\n",
       "      <td>0.012572</td>\n",
       "    </tr>\n",
       "    <tr>\n",
       "      <th>4</th>\n",
       "      <td>Easy</td>\n",
       "      <td>0.000474</td>\n",
       "      <td>0.000007</td>\n",
       "      <td>0.000481</td>\n",
       "      <td>0.000475</td>\n",
       "    </tr>\n",
       "    <tr>\n",
       "      <th>3</th>\n",
       "      <td>Easy</td>\n",
       "      <td>0.000597</td>\n",
       "      <td>0.000004</td>\n",
       "      <td>0.000601</td>\n",
       "      <td>0.000596</td>\n",
       "    </tr>\n",
       "    <tr>\n",
       "      <th>2</th>\n",
       "      <td>Easy</td>\n",
       "      <td>0.002730</td>\n",
       "      <td>0.000043</td>\n",
       "      <td>0.002773</td>\n",
       "      <td>0.002687</td>\n",
       "    </tr>\n",
       "    <tr>\n",
       "      <th>0</th>\n",
       "      <td>Easy</td>\n",
       "      <td>0.001252</td>\n",
       "      <td>0.000003</td>\n",
       "      <td>0.001255</td>\n",
       "      <td>0.001249</td>\n",
       "    </tr>\n",
       "  </tbody>\n",
       "</table>\n",
       "</div>"
      ],
      "text/plain": [
       "   Difficulty      User    System     Total      Real\n",
       "8        Hard  0.704250  0.004928  0.709178  0.702202\n",
       "10       Hard  0.020075  0.000827  0.020902  0.020276\n",
       "5        Hard  0.109413  0.000786  0.110199  0.108969\n",
       "6        Hard  0.474747  0.003600  0.478347  0.473294\n",
       "7        Hard  2.667380  0.014310  2.681690  2.661090\n",
       "9        Hard  0.049569  0.000279  0.049848  0.049274\n",
       "15     Expert  0.201230  0.000906  0.202136  0.200520\n",
       "14     Expert  0.620825  0.002106  0.622931  0.619012\n",
       "13     Expert  0.418463  0.001982  0.420445  0.416899\n",
       "11     Expert  3.680232  0.021776  3.702008  3.674629\n",
       "12     Expert  0.094832  0.001950  0.096782  0.094428\n",
       "16     Expert  0.857771  0.004008  0.861779  0.855616\n",
       "18       Evil  0.165953  0.001128  0.167081  0.165149\n",
       "19       Evil  6.832637  0.036460  6.869097  6.823595\n",
       "20       Evil  0.198576  0.000763  0.199339  0.197672\n",
       "21       Evil  0.425851  0.001554  0.427405  0.424571\n",
       "22       Evil  1.369683  0.005389  1.375072  1.366604\n",
       "23       Evil  2.010588  0.009156  2.019744  2.006746\n",
       "17       Evil  0.813281  0.004792  0.818073  0.811324\n",
       "1        Easy  0.012582  0.000025  0.012607  0.012572\n",
       "4        Easy  0.000474  0.000007  0.000481  0.000475\n",
       "3        Easy  0.000597  0.000004  0.000601  0.000596\n",
       "2        Easy  0.002730  0.000043  0.002773  0.002687\n",
       "0        Easy  0.001252  0.000003  0.001255  0.001249"
      ]
     },
     "execution_count": 19,
     "metadata": {},
     "output_type": "execute_result"
    }
   ],
   "source": [
    "df.sort_values(by=[\"Difficulty\"],inplace=False, axis=0, ascending=False)"
   ]
  },
  {
   "cell_type": "code",
   "execution_count": 20,
   "id": "46dde17f",
   "metadata": {},
   "outputs": [],
   "source": [
    "df_evil = df[df[\"Difficulty\"] == \"Evil\"]\n",
    "df_expert = df[df[\"Difficulty\"] == \"Expert\"]\n",
    "df_hard = df[df[\"Difficulty\"] == \"Hard\"]"
   ]
  },
  {
   "cell_type": "code",
   "execution_count": 21,
   "id": "45674305",
   "metadata": {},
   "outputs": [
    {
     "data": {
      "text/plain": [
       "User      0.978892\n",
       "System    0.005455\n",
       "Total     0.984347\n",
       "Real      0.976851\n",
       "dtype: float64"
      ]
     },
     "execution_count": 21,
     "metadata": {},
     "output_type": "execute_result"
    }
   ],
   "source": [
    "df_expert[['User','System','Total','Real']].mean()"
   ]
  },
  {
   "cell_type": "code",
   "execution_count": 22,
   "id": "5c558465",
   "metadata": {},
   "outputs": [],
   "source": [
    "mean_evil = df_evil[['User','System','Total','Real']].mean()\n",
    "mean_expert = df_expert[['User','System','Total','Real']].mean()\n",
    "mean_hard = df_hard[['User','System','Total','Real']].mean()\n",
    "mean_easy = df_easy[['User','System','Total','Real']].mean()"
   ]
  },
  {
   "cell_type": "code",
   "execution_count": 23,
   "id": "e6c0d2b4",
   "metadata": {},
   "outputs": [
    {
     "data": {
      "text/plain": [
       "Index(['User', 'System', 'Total', 'Real'], dtype='object')"
      ]
     },
     "execution_count": 23,
     "metadata": {},
     "output_type": "execute_result"
    }
   ],
   "source": [
    "kind = mean_evil.index\n",
    "kind"
   ]
  },
  {
   "cell_type": "code",
   "execution_count": 24,
   "id": "84ec645a",
   "metadata": {},
   "outputs": [
    {
     "data": {
      "text/plain": [
       "array(['Easy', 'Hard', 'Expert', 'Evil'], dtype=object)"
      ]
     },
     "execution_count": 24,
     "metadata": {},
     "output_type": "execute_result"
    }
   ],
   "source": [
    "df[\"Difficulty\"].unique()"
   ]
  },
  {
   "cell_type": "code",
   "execution_count": 25,
   "id": "3eedb408",
   "metadata": {},
   "outputs": [],
   "source": [
    "idx = sorted(df[\"Difficulty\"].unique(), key=lambda x: {\"Easy\":1,\"Hard\":2,\"Expert\":3,\"Evil\":4}[x])"
   ]
  },
  {
   "cell_type": "code",
   "execution_count": 26,
   "id": "3af5efb7",
   "metadata": {},
   "outputs": [
    {
     "data": {
      "text/html": [
       "<div>\n",
       "<style scoped>\n",
       "    .dataframe tbody tr th:only-of-type {\n",
       "        vertical-align: middle;\n",
       "    }\n",
       "\n",
       "    .dataframe tbody tr th {\n",
       "        vertical-align: top;\n",
       "    }\n",
       "\n",
       "    .dataframe thead th {\n",
       "        text-align: right;\n",
       "    }\n",
       "</style>\n",
       "<table border=\"1\" class=\"dataframe\">\n",
       "  <thead>\n",
       "    <tr style=\"text-align: right;\">\n",
       "      <th></th>\n",
       "      <th>User</th>\n",
       "      <th>System</th>\n",
       "      <th>Total</th>\n",
       "      <th>Real</th>\n",
       "    </tr>\n",
       "  </thead>\n",
       "  <tbody>\n",
       "    <tr>\n",
       "      <th>Easy</th>\n",
       "      <td>0.003527</td>\n",
       "      <td>0.000016</td>\n",
       "      <td>0.003543</td>\n",
       "      <td>0.003516</td>\n",
       "    </tr>\n",
       "    <tr>\n",
       "      <th>Hard</th>\n",
       "      <td>0.670906</td>\n",
       "      <td>0.004122</td>\n",
       "      <td>0.675027</td>\n",
       "      <td>0.669184</td>\n",
       "    </tr>\n",
       "    <tr>\n",
       "      <th>Expert</th>\n",
       "      <td>0.978892</td>\n",
       "      <td>0.005455</td>\n",
       "      <td>0.984347</td>\n",
       "      <td>0.976851</td>\n",
       "    </tr>\n",
       "    <tr>\n",
       "      <th>Evil</th>\n",
       "      <td>1.688081</td>\n",
       "      <td>0.008463</td>\n",
       "      <td>1.696544</td>\n",
       "      <td>1.685094</td>\n",
       "    </tr>\n",
       "  </tbody>\n",
       "</table>\n",
       "</div>"
      ],
      "text/plain": [
       "            User    System     Total      Real\n",
       "Easy    0.003527  0.000016  0.003543  0.003516\n",
       "Hard    0.670906  0.004122  0.675027  0.669184\n",
       "Expert  0.978892  0.005455  0.984347  0.976851\n",
       "Evil    1.688081  0.008463  1.696544  1.685094"
      ]
     },
     "execution_count": 26,
     "metadata": {},
     "output_type": "execute_result"
    }
   ],
   "source": [
    "df_mean = pd.DataFrame(columns=kind,index=idx,data=[mean_easy,mean_hard,mean_expert,mean_evil])\n",
    "df_mean"
   ]
  },
  {
   "cell_type": "code",
   "execution_count": 27,
   "id": "35520cbc",
   "metadata": {},
   "outputs": [
    {
     "data": {
      "text/html": [
       "<div>\n",
       "<style scoped>\n",
       "    .dataframe tbody tr th:only-of-type {\n",
       "        vertical-align: middle;\n",
       "    }\n",
       "\n",
       "    .dataframe tbody tr th {\n",
       "        vertical-align: top;\n",
       "    }\n",
       "\n",
       "    .dataframe thead th {\n",
       "        text-align: right;\n",
       "    }\n",
       "</style>\n",
       "<table border=\"1\" class=\"dataframe\">\n",
       "  <thead>\n",
       "    <tr style=\"text-align: right;\">\n",
       "      <th></th>\n",
       "      <th>User</th>\n",
       "      <th>System</th>\n",
       "      <th>Total</th>\n",
       "      <th>Real</th>\n",
       "    </tr>\n",
       "  </thead>\n",
       "  <tbody>\n",
       "    <tr>\n",
       "      <th>Easy</th>\n",
       "      <td>0.0035</td>\n",
       "      <td>0.0000</td>\n",
       "      <td>0.0035</td>\n",
       "      <td>0.0035</td>\n",
       "    </tr>\n",
       "    <tr>\n",
       "      <th>Hard</th>\n",
       "      <td>0.6709</td>\n",
       "      <td>0.0041</td>\n",
       "      <td>0.6750</td>\n",
       "      <td>0.6692</td>\n",
       "    </tr>\n",
       "    <tr>\n",
       "      <th>Expert</th>\n",
       "      <td>0.9789</td>\n",
       "      <td>0.0055</td>\n",
       "      <td>0.9843</td>\n",
       "      <td>0.9769</td>\n",
       "    </tr>\n",
       "    <tr>\n",
       "      <th>Evil</th>\n",
       "      <td>1.6881</td>\n",
       "      <td>0.0085</td>\n",
       "      <td>1.6965</td>\n",
       "      <td>1.6851</td>\n",
       "    </tr>\n",
       "  </tbody>\n",
       "</table>\n",
       "</div>"
      ],
      "text/plain": [
       "          User  System   Total    Real\n",
       "Easy    0.0035  0.0000  0.0035  0.0035\n",
       "Hard    0.6709  0.0041  0.6750  0.6692\n",
       "Expert  0.9789  0.0055  0.9843  0.9769\n",
       "Evil    1.6881  0.0085  1.6965  1.6851"
      ]
     },
     "execution_count": 27,
     "metadata": {},
     "output_type": "execute_result"
    }
   ],
   "source": [
    "df_mean.round(4)"
   ]
  },
  {
   "cell_type": "code",
   "execution_count": 28,
   "id": "391e81f9",
   "metadata": {},
   "outputs": [
    {
     "data": {
      "text/html": [
       "<div>\n",
       "<style scoped>\n",
       "    .dataframe tbody tr th:only-of-type {\n",
       "        vertical-align: middle;\n",
       "    }\n",
       "\n",
       "    .dataframe tbody tr th {\n",
       "        vertical-align: top;\n",
       "    }\n",
       "\n",
       "    .dataframe thead th {\n",
       "        text-align: right;\n",
       "    }\n",
       "</style>\n",
       "<table border=\"1\" class=\"dataframe\">\n",
       "  <thead>\n",
       "    <tr style=\"text-align: right;\">\n",
       "      <th></th>\n",
       "      <th>User</th>\n",
       "      <th>System</th>\n",
       "      <th>Total</th>\n",
       "      <th>Real</th>\n",
       "    </tr>\n",
       "  </thead>\n",
       "  <tbody>\n",
       "    <tr>\n",
       "      <th>Easy</th>\n",
       "      <td>0.003527</td>\n",
       "      <td>0.000016</td>\n",
       "      <td>0.003543</td>\n",
       "      <td>0.003516</td>\n",
       "    </tr>\n",
       "    <tr>\n",
       "      <th>Hard</th>\n",
       "      <td>0.670906</td>\n",
       "      <td>0.004122</td>\n",
       "      <td>0.675027</td>\n",
       "      <td>0.669184</td>\n",
       "    </tr>\n",
       "    <tr>\n",
       "      <th>Expert</th>\n",
       "      <td>0.978892</td>\n",
       "      <td>0.005455</td>\n",
       "      <td>0.984347</td>\n",
       "      <td>0.976851</td>\n",
       "    </tr>\n",
       "    <tr>\n",
       "      <th>Evil</th>\n",
       "      <td>1.688081</td>\n",
       "      <td>0.008463</td>\n",
       "      <td>1.696544</td>\n",
       "      <td>1.685094</td>\n",
       "    </tr>\n",
       "  </tbody>\n",
       "</table>\n",
       "</div>"
      ],
      "text/plain": [
       "            User    System     Total      Real\n",
       "Easy    0.003527  0.000016  0.003543  0.003516\n",
       "Hard    0.670906  0.004122  0.675027  0.669184\n",
       "Expert  0.978892  0.005455  0.984347  0.976851\n",
       "Evil    1.688081  0.008463  1.696544  1.685094"
      ]
     },
     "execution_count": 28,
     "metadata": {},
     "output_type": "execute_result"
    }
   ],
   "source": [
    "df_mean.sort_values(by=[\"Real\"], ascending = True, axis=0,inplace=True)\n",
    "df_mean"
   ]
  },
  {
   "cell_type": "code",
   "execution_count": 29,
   "id": "7e97c64e",
   "metadata": {},
   "outputs": [
    {
     "data": {
      "text/plain": [
       "Difficulty\n",
       "Easy      0.003516\n",
       "Evil      1.685094\n",
       "Expert    0.976851\n",
       "Hard      0.669184\n",
       "Name: Real, dtype: float64"
      ]
     },
     "execution_count": 29,
     "metadata": {},
     "output_type": "execute_result"
    }
   ],
   "source": [
    "df.groupby([\"Difficulty\"])[\"Real\"].mean()"
   ]
  },
  {
   "cell_type": "code",
   "execution_count": 30,
   "id": "2449e7ca",
   "metadata": {},
   "outputs": [
    {
     "data": {
      "text/plain": [
       "Difficulty\n",
       "Easy      0.000475\n",
       "Evil      0.165149\n",
       "Expert    0.094428\n",
       "Hard      0.020276\n",
       "Name: Real, dtype: float64"
      ]
     },
     "execution_count": 30,
     "metadata": {},
     "output_type": "execute_result"
    }
   ],
   "source": [
    "df.groupby([\"Difficulty\"])[\"Real\"].min()"
   ]
  },
  {
   "cell_type": "code",
   "execution_count": 31,
   "id": "4524cc8e",
   "metadata": {},
   "outputs": [
    {
     "data": {
      "text/plain": [
       "Difficulty\n",
       "Easy      0.012572\n",
       "Evil      6.823595\n",
       "Expert    3.674629\n",
       "Hard      2.661090\n",
       "Name: Real, dtype: float64"
      ]
     },
     "execution_count": 31,
     "metadata": {},
     "output_type": "execute_result"
    }
   ],
   "source": [
    "df.groupby([\"Difficulty\"])[\"Real\"].max()"
   ]
  },
  {
   "cell_type": "code",
   "execution_count": 32,
   "id": "c390b0b7",
   "metadata": {},
   "outputs": [],
   "source": [
    "min = df.groupby([\"Difficulty\"])[\"Real\"].min()\n",
    "mean = df.groupby([\"Difficulty\"])[\"Real\"].mean()\n",
    "df.groupby([\"Difficulty\"])[\"Real\"].max()\n",
    "max = df.groupby([\"Difficulty\"])[\"Real\"].max()"
   ]
  },
  {
   "cell_type": "code",
   "execution_count": 33,
   "id": "3d3248c1",
   "metadata": {},
   "outputs": [
    {
     "data": {
      "text/html": [
       "<div>\n",
       "<style scoped>\n",
       "    .dataframe tbody tr th:only-of-type {\n",
       "        vertical-align: middle;\n",
       "    }\n",
       "\n",
       "    .dataframe tbody tr th {\n",
       "        vertical-align: top;\n",
       "    }\n",
       "\n",
       "    .dataframe thead th {\n",
       "        text-align: right;\n",
       "    }\n",
       "</style>\n",
       "<table border=\"1\" class=\"dataframe\">\n",
       "  <thead>\n",
       "    <tr style=\"text-align: right;\">\n",
       "      <th>Difficulty</th>\n",
       "      <th>Easy</th>\n",
       "      <th>Evil</th>\n",
       "      <th>Expert</th>\n",
       "      <th>Hard</th>\n",
       "    </tr>\n",
       "  </thead>\n",
       "  <tbody>\n",
       "    <tr>\n",
       "      <th>Best</th>\n",
       "      <td>0.000475</td>\n",
       "      <td>0.165149</td>\n",
       "      <td>0.094428</td>\n",
       "      <td>0.020276</td>\n",
       "    </tr>\n",
       "    <tr>\n",
       "      <th>Average</th>\n",
       "      <td>0.003516</td>\n",
       "      <td>1.685094</td>\n",
       "      <td>0.976851</td>\n",
       "      <td>0.669184</td>\n",
       "    </tr>\n",
       "    <tr>\n",
       "      <th>Worst</th>\n",
       "      <td>0.012572</td>\n",
       "      <td>6.823595</td>\n",
       "      <td>3.674629</td>\n",
       "      <td>2.661090</td>\n",
       "    </tr>\n",
       "  </tbody>\n",
       "</table>\n",
       "</div>"
      ],
      "text/plain": [
       "Difficulty      Easy      Evil    Expert      Hard\n",
       "Best        0.000475  0.165149  0.094428  0.020276\n",
       "Average     0.003516  1.685094  0.976851  0.669184\n",
       "Worst       0.012572  6.823595  3.674629  2.661090"
      ]
     },
     "execution_count": 33,
     "metadata": {},
     "output_type": "execute_result"
    }
   ],
   "source": [
    "df3 = pd.DataFrame(data=[min,mean,max],index=[\"Best\",\"Average\",\"Worst\"])\n",
    "df3"
   ]
  },
  {
   "cell_type": "code",
   "execution_count": 34,
   "id": "7eecdaab",
   "metadata": {},
   "outputs": [],
   "source": [
    "df3.index.name = \"Complexity\""
   ]
  },
  {
   "cell_type": "code",
   "execution_count": 35,
   "id": "bbc1e96a",
   "metadata": {},
   "outputs": [
    {
     "data": {
      "text/html": [
       "<div>\n",
       "<style scoped>\n",
       "    .dataframe tbody tr th:only-of-type {\n",
       "        vertical-align: middle;\n",
       "    }\n",
       "\n",
       "    .dataframe tbody tr th {\n",
       "        vertical-align: top;\n",
       "    }\n",
       "\n",
       "    .dataframe thead th {\n",
       "        text-align: right;\n",
       "    }\n",
       "</style>\n",
       "<table border=\"1\" class=\"dataframe\">\n",
       "  <thead>\n",
       "    <tr style=\"text-align: right;\">\n",
       "      <th>Difficulty</th>\n",
       "      <th>Easy</th>\n",
       "      <th>Evil</th>\n",
       "      <th>Expert</th>\n",
       "      <th>Hard</th>\n",
       "    </tr>\n",
       "    <tr>\n",
       "      <th>Complexity</th>\n",
       "      <th></th>\n",
       "      <th></th>\n",
       "      <th></th>\n",
       "      <th></th>\n",
       "    </tr>\n",
       "  </thead>\n",
       "  <tbody>\n",
       "    <tr>\n",
       "      <th>Best</th>\n",
       "      <td>0.000475</td>\n",
       "      <td>0.165149</td>\n",
       "      <td>0.094428</td>\n",
       "      <td>0.020276</td>\n",
       "    </tr>\n",
       "    <tr>\n",
       "      <th>Average</th>\n",
       "      <td>0.003516</td>\n",
       "      <td>1.685094</td>\n",
       "      <td>0.976851</td>\n",
       "      <td>0.669184</td>\n",
       "    </tr>\n",
       "    <tr>\n",
       "      <th>Worst</th>\n",
       "      <td>0.012572</td>\n",
       "      <td>6.823595</td>\n",
       "      <td>3.674629</td>\n",
       "      <td>2.661090</td>\n",
       "    </tr>\n",
       "  </tbody>\n",
       "</table>\n",
       "</div>"
      ],
      "text/plain": [
       "Difficulty      Easy      Evil    Expert      Hard\n",
       "Complexity                                        \n",
       "Best        0.000475  0.165149  0.094428  0.020276\n",
       "Average     0.003516  1.685094  0.976851  0.669184\n",
       "Worst       0.012572  6.823595  3.674629  2.661090"
      ]
     },
     "execution_count": 35,
     "metadata": {},
     "output_type": "execute_result"
    }
   ],
   "source": [
    "df3"
   ]
  },
  {
   "cell_type": "markdown",
   "id": "a1547abd",
   "metadata": {},
   "source": [
    "## 2. Time Complexity Visualization"
   ]
  },
  {
   "cell_type": "markdown",
   "id": "3832b65f",
   "metadata": {},
   "source": [
    "#### a. Time Complexity of Different Cases"
   ]
  },
  {
   "cell_type": "code",
   "execution_count": 38,
   "id": "4e8419a4",
   "metadata": {},
   "outputs": [
    {
     "data": {
      "image/png": "[encoded data removed]",
      "text/plain": [
       "<Figure size 720x576 with 1 Axes>"
      ]
     },
     "metadata": {},
     "output_type": "display_data"
    }
   ],
   "source": [
    "custom_params = {\"axes.spines.right\":False, \"axes.spines.top\":False}\n",
    "a = sn.color_palette(\"mako_r\", 6)\n",
    "f = plt.figure()\n",
    "f.set_figwidth(10)\n",
    "f.set_figheight(8)\n",
    "sn.set_theme(rc= custom_params, style=\"white\")\n",
    "p = sn.lineplot(data =df3,marker=\"o\",dashes=False,linewidth=3,legend=\"full\")\n",
    "p.set_xlabel(xlabel=\"Case\",fontsize = 15,loc=\"left\")\n",
    "p.set_ylabel(ylabel=\"Time (s)\", fontsize = 15, loc=\"top\")\n",
    "p.set_title(\"Time Complexity Backtracking\", fontsize = 20, loc=\"left\",pad=10)\n",
    "p.set_ylim(top=8.0)\n",
    "for idx,num in enumerate(df3[\"Evil\"]):\n",
    "    plt.annotate(round(num,3),(df3.index[idx],float(df3[\"Evil\"][idx])+0.2))\n",
    "plt.annotate(round(df3[\"Expert\"][\"Worst\"],3),(\"Worst\",float(df3[\"Expert\"][\"Worst\"]+0.2)))\n",
    "plt.annotate(round(df3[\"Easy\"][\"Worst\"],3),(\"Worst\",float(df3[\"Easy\"][\"Worst\"]+0.2)))\n",
    "plt.annotate(round(df3[\"Hard\"][\"Worst\"],3),(\"Worst\",float(df3[\"Hard\"][\"Worst\"]+0.2)))\n",
    "plt.savefig(\"./image/complexity_visulization.png\")\n"
   ]
  },
  {
   "cell_type": "markdown",
   "id": "41c6bd55",
   "metadata": {},
   "source": [
    "#### b. Average Time Visualization"
   ]
  },
  {
   "cell_type": "code",
   "execution_count": 39,
   "id": "5376a809",
   "metadata": {},
   "outputs": [
    {
     "data": {
      "image/png": "[encoded data removed]",
      "text/plain": [
       "<Figure size 720x576 with 1 Axes>"
      ]
     },
     "metadata": {},
     "output_type": "display_data"
    }
   ],
   "source": [
    "custom_params = {\"axes.spines.right\":False, \"axes.spines.top\":False}\n",
    "f = plt.figure()\n",
    "f.set_figwidth(10)\n",
    "f.set_figheight(8)\n",
    "sn.set_theme(rc= custom_params, style=\"white\")\n",
    "p = sn.lineplot(data = df_mean['Real'],marker=\"o\",dashes=False, linewidth=3,palette=[\"lightblue\"])\n",
    "p.set_xlabel(xlabel=\"Difficulty\",fontsize = 15,loc=\"left\")\n",
    "p.set_ylabel(ylabel=\"Real Time\", fontsize = 15, loc=\"top\")\n",
    "p.set_title(\"Time Complexity Backtracking (Average Time)\", fontsize = 20, loc=\"left\",pad=10)\n",
    "p.set_ylim(top=2.0)\n",
    "for idx,num in enumerate(df_mean[\"Real\"]):\n",
    "    plt.annotate(round(num,3),(df_mean.index[idx],float(df_mean[\"Real\"][idx])+0.1))\n",
    "plt.savefig(\"./image/time_complexity_mean.png\")"
   ]
  }
 ],
 "metadata": {
  "interpreter": {
   "hash": "aee8b7b246df8f9039afb4144a1f6fd8d2ca17a180786b69acc140d282b71a49"
  },
  "kernelspec": {
   "display_name": "Python 3.10.1 64-bit",
   "language": "python",
   "name": "python3"
  },
  "language_info": {
   "codemirror_mode": {
    "name": "ipython",
    "version": 3
   },
   "file_extension": ".py",
   "mimetype": "text/x-python",
   "name": "python",
   "nbconvert_exporter": "python",
   "pygments_lexer": "ipython3",
   "version": "3.10.1"
  }
 },
 "nbformat": 4,
 "nbformat_minor": 5
}
